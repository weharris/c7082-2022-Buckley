{
  "nbformat": 4,
  "nbformat_minor": 0,
  "metadata": {
    "colab": {
      "name": "Train_test_val_coding",
      "provenance": [],
      "collapsed_sections": [],
      "authorship_tag": "ABX9TyPTceXs6KzqowPjcLBRwPg2",
      "include_colab_link": true
    },
    "kernelspec": {
      "name": "python3",
      "display_name": "Python 3"
    },
    "language_info": {
      "name": "python"
    }
  },
  "cells": [
    {
      "cell_type": "markdown",
      "metadata": {
        "id": "view-in-github",
        "colab_type": "text"
      },
      "source": [
        "<a href=\"https://colab.research.google.com/github/BUCKERS99/C7082---Assignment/blob/main/Train_test_val_folder_coding.ipynb\" target=\"_parent\"><img src=\"https://colab.research.google.com/assets/colab-badge.svg\" alt=\"Open In Colab\"/></a>"
      ]
    },
    {
      "cell_type": "markdown",
      "source": [
        "# Splitting the images into Train, Test and Validate folders\n"
      ],
      "metadata": {
        "id": "i8esyqjzcFLP"
      }
    },
    {
      "cell_type": "code",
      "source": [
        "# Google drive needs to be mounted\n",
        "from google.colab import drive\n",
        "from google.colab import files\n",
        "drive.mount('/content/drive')"
      ],
      "metadata": {
        "colab": {
          "base_uri": "https://localhost:8080/"
        },
        "id": "kNP9CEhZdHU_",
        "outputId": "107ad97b-daac-4759-9491-59c2631ada5d"
      },
      "execution_count": null,
      "outputs": [
        {
          "output_type": "stream",
          "name": "stdout",
          "text": [
            "Mounted at /content/drive\n"
          ]
        }
      ]
    },
    {
      "cell_type": "code",
      "execution_count": null,
      "metadata": {
        "id": "zICSlljacEZK"
      },
      "outputs": [],
      "source": [
        "import os\n",
        "import shutil"
      ]
    },
    {
      "cell_type": "code",
      "source": [
        "# We need to tell the code where the data is located and where we want the ordered data to go\n",
        "og_dir = \"/content/drive/MyDrive/C7082 Assignment/potato_leaf_pics\"\n",
        "\n",
        "ordered_dir = \"/content/drive/MyDrive/C7082 Assignment/Ordered_leaf \""
      ],
      "metadata": {
        "id": "R6VOgbTWcyB5"
      },
      "execution_count": null,
      "outputs": []
    },
    {
      "cell_type": "code",
      "source": [
        "train_dir = os.path.join(ordered_dir, 'train')\n",
        "val_dir = os.path.join(ordered_dir, 'validation')\n",
        "test_dir = os.path.join(ordered_dir, 'test')"
      ],
      "metadata": {
        "id": "SuvEA75MiUnk"
      },
      "execution_count": null,
      "outputs": []
    },
    {
      "cell_type": "markdown",
      "source": [
        "##Healthy leaf splitting\n"
      ],
      "metadata": {
        "id": "9PeycDA4hfgs"
      }
    },
    {
      "cell_type": "code",
      "source": [
        "train_healthy_dir = \"/content/drive/MyDrive/C7082 Assignment/Ordered_leaf /Train/Healthy\"\n",
        "test_healthy_dir = \"/content/drive/MyDrive/C7082 Assignment/Ordered_leaf /Test/Healthy\"\n",
        "val_healthy_dir = \"/content/drive/MyDrive/C7082 Assignment/Ordered_leaf /Validate/Healthy\"\n",
        "\n",
        "# find the file path for the original healthy images\n",
        "og_healthy_dir = \"/content/drive/MyDrive/C7082 Assignment/potato_leaf_pics/Potato-Leaf/Healthy\"\n",
        "\n",
        "# use a 80/10/10 split of the images for train/test/validate\n",
        "# there are 966 images -> split is 772/97/97\n",
        "\n",
        "# test images\n",
        "fnames = ['healthy_{}.jpg'.format(i) for i in range(97)]\n",
        "for fname in fnames:\n",
        "  src = os.path.join(og_healthy_dir, fname)\n",
        "  dst = os.path.join(test_healthy_dir, fname)\n",
        "  shutil.copyfile(src, dst)\n",
        "\n",
        "# validation images\n",
        "fnames = ['healthy_{}.jpg'.format(i) for i in range(97, 194)]\n",
        "for fname in fnames:\n",
        "  src = os.path.join(og_healthy_dir, fname)\n",
        "  dst = os.path.join(val_healthy_dir, fname)\n",
        "  shutil.copyfile(src, dst)\n",
        "\n",
        "# train images\n",
        "fnames = ['healthy_{}.jpg'.format(i) for i in range(194, 966)]\n",
        "for fname in fnames:\n",
        "  src = os.path.join(og_healthy_dir, fname)\n",
        "  dst = os.path.join(train_healthy_dir, fname)\n",
        "  shutil.copyfile(src, dst)"
      ],
      "metadata": {
        "id": "j67cr1dkhj7o"
      },
      "execution_count": null,
      "outputs": []
    },
    {
      "cell_type": "markdown",
      "source": [
        "##Late Blight Splitting"
      ],
      "metadata": {
        "id": "alBM6kswnaUh"
      }
    },
    {
      "cell_type": "code",
      "source": [
        "train_late_dir = \"/content/drive/MyDrive/C7082 Assignment/Ordered_leaf /Train/Late\"\n",
        "test_late_dir = \"/content/drive/MyDrive/C7082 Assignment/Ordered_leaf /Test/Late\"\n",
        "val_late_dir = \"/content/drive/MyDrive/C7082 Assignment/Ordered_leaf /Validate/Late\"\n",
        "\n",
        "# find the file path for the original late blight images\n",
        "og_late_dir = \"/content/drive/MyDrive/C7082 Assignment/potato_leaf_pics/Potato-Leaf/Late Blight\"\n",
        "\n",
        "# use a 80/10/10 split of the images for train/test/validate\n",
        "# there are 1000 images -> split is 800/100/100\n",
        "\n",
        "# test images\n",
        "fnames = ['late_{}.jpg'.format(i) for i in range(100)]\n",
        "for fname in fnames:\n",
        "  src = os.path.join(og_late_dir, fname)\n",
        "  dst = os.path.join(test_late_dir, fname)\n",
        "  shutil.copyfile(src, dst)\n",
        "\n",
        "# validation images\n",
        "fnames = ['late_{}.jpg'.format(i) for i in range(100, 200)]\n",
        "for fname in fnames:\n",
        "  src = os.path.join(og_late_dir, fname)\n",
        "  dst = os.path.join(val_late_dir, fname)\n",
        "  shutil.copyfile(src, dst)\n",
        "\n",
        "# train images\n",
        "fnames = ['late_{}.jpg'.format(i) for i in range(200, 1000)]\n",
        "for fname in fnames:\n",
        "  src = os.path.join(og_late_dir, fname)\n",
        "  dst = os.path.join(train_late_dir, fname)\n",
        "  shutil.copyfile(src, dst)"
      ],
      "metadata": {
        "id": "06KrKN-CngIF"
      },
      "execution_count": null,
      "outputs": []
    },
    {
      "cell_type": "markdown",
      "source": [
        "##Early Blight Splitting"
      ],
      "metadata": {
        "id": "wd3sAMtdng8X"
      }
    },
    {
      "cell_type": "code",
      "source": [
        "train_early_dir = \"/content/drive/MyDrive/C7082 Assignment/Ordered_leaf /Train/Early\"\n",
        "test_early_dir = \"/content/drive/MyDrive/C7082 Assignment/Ordered_leaf /Test/Early\"\n",
        "val_early_dir = \"/content/drive/MyDrive/C7082 Assignment/Ordered_leaf /Validate/Early\"\n",
        "\n",
        "# find the file path for the original early blight images\n",
        "og_early_dir = \"/content/drive/MyDrive/C7082 Assignment/potato_leaf_pics/Potato-Leaf/Early Blight\"\n",
        "\n",
        "# use a 80/10/10 split of the images for train/test/validate\n",
        "# there are 1000 images -> split is 800/100/100\n",
        "\n",
        "# test images\n",
        "fnames = ['early_{}.jpg'.format(i) for i in range(100)]\n",
        "for fname in fnames:\n",
        "  src = os.path.join(og_early_dir, fname)\n",
        "  dst = os.path.join(test_early_dir, fname)\n",
        "  shutil.copyfile(src, dst)\n",
        "\n",
        "# validation images\n",
        "fnames = ['early_{}.jpg'.format(i) for i in range(100, 200)]\n",
        "for fname in fnames:\n",
        "  src = os.path.join(og_early_dir, fname)\n",
        "  dst = os.path.join(val_early_dir, fname)\n",
        "  shutil.copyfile(src, dst)\n",
        "\n",
        "# train images\n",
        "fnames = ['early_{}.jpg'.format(i) for i in range(200, 1000)]\n",
        "for fname in fnames:\n",
        "  src = os.path.join(og_early_dir, fname)\n",
        "  dst = os.path.join(train_early_dir, fname)\n",
        "  shutil.copyfile(src, dst)"
      ],
      "metadata": {
        "id": "O-mHjxkMnkXj"
      },
      "execution_count": null,
      "outputs": []
    }
  ]
}