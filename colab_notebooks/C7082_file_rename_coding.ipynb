{
  "nbformat": 4,
  "nbformat_minor": 0,
  "metadata": {
    "colab": {
      "name": "C7082 file rename coding",
      "provenance": [],
      "collapsed_sections": [],
      "authorship_tag": "ABX9TyO7et9FEvseAvqVyxGsCXK1",
      "include_colab_link": true
    },
    "kernelspec": {
      "name": "python3",
      "display_name": "Python 3"
    },
    "language_info": {
      "name": "python"
    }
  },
  "cells": [
    {
      "cell_type": "markdown",
      "metadata": {
        "id": "view-in-github",
        "colab_type": "text"
      },
      "source": [
        "<a href=\"https://colab.research.google.com/github/BUCKERS99/C7082---Assignment/blob/main/C7082_file_rename_coding.ipynb\" target=\"_parent\"><img src=\"https://colab.research.google.com/assets/colab-badge.svg\" alt=\"Open In Colab\"/></a>"
      ]
    },
    {
      "cell_type": "markdown",
      "source": [
        "Assignment Coding"
      ],
      "metadata": {
        "id": "yDxGfrBuK8pW"
      }
    },
    {
      "cell_type": "markdown",
      "source": [
        "#Renaming the files\n",
        "This was done due to there being many files with default names not linking them to the category they were from.\n",
        "\n",
        "For example: \n",
        "00fc2ee5-729f-4757-8aeb-65c3355874f2___RS_HL 1864.JPG \n",
        "\n",
        "This will be renamed to Healthy_1.JPG"
      ],
      "metadata": {
        "id": "WGqkvRxgRQe6"
      }
    },
    {
      "cell_type": "code",
      "execution_count": null,
      "metadata": {
        "colab": {
          "base_uri": "https://localhost:8080/"
        },
        "id": "k9Pyh_hNK8G9",
        "outputId": "857039ba-287f-48c9-88df-ceeb9fce35d7"
      },
      "outputs": [
        {
          "output_type": "stream",
          "name": "stdout",
          "text": [
            "Mounted at /content/drive\n"
          ]
        }
      ],
      "source": [
        "# Google drive needs to be mounted\n",
        "from google.colab import drive\n",
        "from google.colab import files\n",
        "drive.mount('/content/drive')"
      ]
    },
    {
      "cell_type": "code",
      "source": [
        "import os\n",
        "import numpy as np\n"
      ],
      "metadata": {
        "id": "5gMH22r7SxWg"
      },
      "execution_count": null,
      "outputs": []
    },
    {
      "cell_type": "markdown",
      "source": [
        "###This code will rename all the healthy potato leaf files"
      ],
      "metadata": {
        "id": "D3-hTi5BS43z"
      }
    },
    {
      "cell_type": "code",
      "source": [
        "healthy = \"/content/drive/MyDrive/C7082 Assignment/potato_leaf_pics/Potato-Leaf/Healthy\"\n",
        "\n",
        "# make an array of the current names\n",
        "healthy_names = np.array(os.listdir(healthy))\n",
        "print(healthy_names)"
      ],
      "metadata": {
        "id": "ya4_fHyTS4Dt"
      },
      "execution_count": null,
      "outputs": []
    },
    {
      "cell_type": "code",
      "source": [
        "# creating a for loop to rename these files\n",
        "def main():\n",
        "  for count, filename in enumerate(healthy_names):\n",
        "    dst = \"healthy_\" + str(count) + \".jpg\" # this gives the prefix of \"healthy\", the count of the file, and the file extention.\n",
        "    src = healthy + '/' + filename\n",
        "    dst = healthy + '/' + dst\n",
        "    os.rename(src, dst)\n",
        "\n",
        "if __name__ == '__main__':\n",
        "  main()"
      ],
      "metadata": {
        "id": "A2iIOABtVQTy"
      },
      "execution_count": null,
      "outputs": []
    },
    {
      "cell_type": "markdown",
      "source": [
        "###This code will rename all the Late Blight potato leaf files"
      ],
      "metadata": {
        "id": "J912R1MPWoqG"
      }
    },
    {
      "cell_type": "code",
      "source": [
        "late = \"/content/drive/MyDrive/C7082 Assignment/potato_leaf_pics/Potato-Leaf/Late Blight\"\n",
        "\n",
        "late_names = np.array(os.listdir(late))\n",
        "print(late_names)"
      ],
      "metadata": {
        "id": "Mua3__xtWzVi"
      },
      "execution_count": null,
      "outputs": []
    },
    {
      "cell_type": "code",
      "source": [
        "def main():\n",
        "  for count, filename in enumerate(late_names):\n",
        "    dst = \"late_\" + str(count) + \".jpg\" \n",
        "    src = late + '/' + filename\n",
        "    dst = late + '/' + dst\n",
        "    os.rename(src, dst)\n",
        "\n",
        "if __name__ == '__main__':\n",
        "  main()"
      ],
      "metadata": {
        "id": "JWyvf5a0XFlH"
      },
      "execution_count": null,
      "outputs": []
    },
    {
      "cell_type": "markdown",
      "source": [
        "### This code will rename all the Early blight potato leaf files"
      ],
      "metadata": {
        "id": "h089ALPmXVN8"
      }
    },
    {
      "cell_type": "code",
      "source": [
        "early = \"/content/drive/MyDrive/C7082 Assignment/potato_leaf_pics/Potato-Leaf/Early Blight\"\n",
        "\n",
        "early_names = np.array(os.listdir(early))\n",
        "print(early_names)"
      ],
      "metadata": {
        "id": "oGPSTzI-XbN6"
      },
      "execution_count": null,
      "outputs": []
    },
    {
      "cell_type": "code",
      "source": [
        "def main():\n",
        "  for count, filename in enumerate(early_names):\n",
        "    dst = \"early_\" + str(count) + \".jpg\" \n",
        "    src = early + '/' + filename\n",
        "    dst = early + '/' + dst\n",
        "    os.rename(src, dst)\n",
        "\n",
        "if __name__ == '__main__':\n",
        "  main()"
      ],
      "metadata": {
        "id": "ZwukVFZ7XcB8"
      },
      "execution_count": null,
      "outputs": []
    }
  ]
}